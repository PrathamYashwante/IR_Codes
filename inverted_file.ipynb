{
  "nbformat": 4,
  "nbformat_minor": 0,
  "metadata": {
    "colab": {
      "provenance": []
    },
    "kernelspec": {
      "name": "python3",
      "display_name": "Python 3"
    },
    "language_info": {
      "name": "python"
    }
  },
  "cells": [
    {
      "cell_type": "code",
      "source": [
        "documents = {\n",
        "    'doc1': 'apple banana cherry banana elderberry',\n",
        "    'doc2': 'banana cherry date',\n",
        "    'doc3': 'apple cherry elderberry',\n",
        "    'doc4': 'date apple banana'\n",
        "}"
      ],
      "metadata": {
        "id": "QlOn-17VGyzJ"
      },
      "execution_count": null,
      "outputs": []
    },
    {
      "cell_type": "code",
      "source": [
        "combined_text = \" \".join(documents.values())"
      ],
      "metadata": {
        "id": "bmg-qx4kGzrD"
      },
      "execution_count": null,
      "outputs": []
    },
    {
      "cell_type": "code",
      "source": [
        "terms = combined_text.split()\n",
        "unique_terms = list(set(terms))\n",
        "unique_terms.sort()"
      ],
      "metadata": {
        "id": "6xmPSD6pG09p"
      },
      "execution_count": null,
      "outputs": []
    },
    {
      "cell_type": "code",
      "source": [
        "term_positions = {term: [i for i, word in enumerate(terms) if word == term] for term in unique_terms}"
      ],
      "metadata": {
        "id": "qfv0P4n4G3fJ"
      },
      "execution_count": null,
      "outputs": []
    },
    {
      "cell_type": "code",
      "source": [
        "block_size = len(combined_text) // 5\n",
        "blocks = [combined_text[i:i + block_size] for i in range(0, len(combined_text), block_size)]"
      ],
      "metadata": {
        "id": "oUqCTJ7gG5Ma"
      },
      "execution_count": null,
      "outputs": []
    },
    {
      "cell_type": "code",
      "source": [
        "term_blocks = {term: [i for i, block in enumerate(blocks) if term in block] for term in unique_terms}"
      ],
      "metadata": {
        "id": "oRA9BDhaG6O5"
      },
      "execution_count": null,
      "outputs": []
    },
    {
      "cell_type": "code",
      "source": [
        "print(f\"{'Keyword':<15}{'Occurrences':<30}{'Block Address':<15}\")\n",
        "print(\"-\" * 75)\n",
        "for term in unique_terms:\n",
        "    occurrences = str(term_positions[term])\n",
        "    block_address = str(term_blocks[term])\n",
        "    print(f\"{term:<15}{occurrences:<30}{block_address:<15}\")"
      ],
      "metadata": {
        "colab": {
          "base_uri": "https://localhost:8080/"
        },
        "id": "adD2px7bGk8x",
        "outputId": "73a519b1-f3d1-4281-f3b4-92ceebe92ac2"
      },
      "execution_count": null,
      "outputs": [
        {
          "output_type": "stream",
          "name": "stdout",
          "text": [
            "Keyword        Occurrences                   Block Address  \n",
            "---------------------------------------------------------------------------\n",
            "apple          [0, 8, 12]                    [0, 3, 4]      \n",
            "banana         [1, 3, 5, 13]                 [0, 1, 2]      \n",
            "cherry         [2, 6, 9]                     [0, 2, 3]      \n",
            "date           [7, 11]                       [2, 4]         \n",
            "elderberry     [4, 10]                       [1]            \n"
          ]
        }
      ]
    }
  ]
}