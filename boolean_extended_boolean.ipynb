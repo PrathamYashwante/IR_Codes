{
  "nbformat": 4,
  "nbformat_minor": 0,
  "metadata": {
    "colab": {
      "provenance": []
    },
    "kernelspec": {
      "name": "python3",
      "display_name": "Python 3"
    },
    "language_info": {
      "name": "python"
    }
  },
  "cells": [
    {
      "cell_type": "markdown",
      "source": [
        "### Boolean"
      ],
      "metadata": {
        "id": "lJjgvL_dOI9W"
      }
    },
    {
      "cell_type": "code",
      "source": [
        "documents = [\n",
        "    \"term1 term2 term3 term4 term5\",\n",
        "    \"term1 term3 term5 term6\",\n",
        "    \"term2 term3 term4\",\n",
        "    \"term1 term2 term3\",\n",
        "    \"term4 term5 term6\",\n",
        "]"
      ],
      "metadata": {
        "id": "JLe4Yt0ZQ970"
      },
      "execution_count": null,
      "outputs": []
    },
    {
      "cell_type": "code",
      "source": [
        "terms = [\"term1\", \"term2\", \"term3\"]\n",
        "query_and = \"term1 AND term3\"\n",
        "query_or = \"term1 OR term2\""
      ],
      "metadata": {
        "id": "067WfEvURAXc"
      },
      "execution_count": null,
      "outputs": []
    },
    {
      "cell_type": "code",
      "source": [
        "matrix = []\n",
        "for doc in documents:\n",
        "    row = []\n",
        "    for term in terms:\n",
        "        if term in doc:\n",
        "            row.append(1)\n",
        "        else:\n",
        "            row.append(0)\n",
        "    matrix.append(row)"
      ],
      "metadata": {
        "id": "7q28oH4QQ_Bd"
      },
      "execution_count": null,
      "outputs": []
    },
    {
      "cell_type": "code",
      "source": [
        "matrix"
      ],
      "metadata": {
        "colab": {
          "base_uri": "https://localhost:8080/"
        },
        "id": "V6esGjd7RFeN",
        "outputId": "a3b270d2-cfa6-49de-8174-836ed9b98bfc"
      },
      "execution_count": null,
      "outputs": [
        {
          "output_type": "execute_result",
          "data": {
            "text/plain": [
              "[[1, 1, 1], [1, 0, 1], [0, 1, 1], [1, 1, 1], [0, 0, 0]]"
            ]
          },
          "metadata": {},
          "execution_count": 15
        }
      ]
    },
    {
      "cell_type": "code",
      "source": [
        "query_terms_and = query_and.split(\" AND \")\n",
        "matching_docs_and = []\n",
        "for i, term in enumerate(terms):\n",
        "    if term in query_terms_and:\n",
        "        if not matching_docs_and:\n",
        "            matching_docs_and = [j for j, row in enumerate(matrix) if row[i] == 1]\n",
        "        else:\n",
        "            matching_docs_and = [j for j in matching_docs_and if matrix[j][i] == 1]\n",
        "\n",
        "query_terms_or = query_or.split(\" OR \")\n",
        "matching_docs_or = []\n",
        "for i, term in enumerate(terms):\n",
        "    if term in query_terms_or:\n",
        "        matching_docs_or += [j for j, row in enumerate(matrix) if row[i] == 1]"
      ],
      "metadata": {
        "id": "7jg2dYQhQ7Et"
      },
      "execution_count": null,
      "outputs": []
    },
    {
      "cell_type": "code",
      "execution_count": null,
      "metadata": {
        "colab": {
          "base_uri": "https://localhost:8080/"
        },
        "id": "77MTclJyOFUE",
        "outputId": "02649ff2-3324-4a07-bcf9-42aa54f5065d"
      },
      "outputs": [
        {
          "output_type": "stream",
          "name": "stdout",
          "text": [
            "Matching Documents for AND Operation:\n",
            "Doc1: term1 term2 term3 term4 term5\n",
            "Doc2: term1 term3 term5 term6\n",
            "Doc4: term1 term2 term3\n",
            "\n",
            "Matching Documents for OR Operation:\n",
            "Doc1: term1 term2 term3 term4 term5\n",
            "Doc2: term1 term3 term5 term6\n",
            "Doc3: term2 term3 term4\n",
            "Doc4: term1 term2 term3\n"
          ]
        }
      ],
      "source": [
        "print(\"Matching Documents for AND Operation:\")\n",
        "for doc_index in matching_docs_and:\n",
        "    print(f\"Doc{doc_index + 1}: {documents[doc_index]}\")\n",
        "\n",
        "print(\"\\nMatching Documents for OR Operation:\")\n",
        "for doc_index in set(matching_docs_or):\n",
        "    print(f\"Doc{doc_index + 1}: {documents[doc_index]}\")"
      ]
    },
    {
      "cell_type": "markdown",
      "source": [
        "### Extended Boolean Model"
      ],
      "metadata": {
        "id": "RsknAE7XRwrP"
      }
    },
    {
      "cell_type": "code",
      "source": [
        "import pandas as pd\n",
        "\n",
        "keywords = [\"mount\", \"everest\", \"earth\", \"mountain\", \"kalsubai\", \"fuji\"]\n",
        "documents = [\n",
        "    \"\"\"D1: Mount Everest is Earth highest mountain above sea level located in the subrange of the\n",
        "     Himalayas. Mount Everest attracts many climbers, some of them are highly experienced mountaineers.\"\"\",\n",
        "    \"\"\"D2: Kalsubai is a is mountain in the western Ghats located in the Indian State.\n",
        "    The mountain range lies within the Kalsubai Harishcndragad wildlife sanctuary.\"\"\",\n",
        "    \"D3: Mount Fuji is a very distinctive feature of the geography of Japan. The mountain stands about 100km.\"\n",
        "]\n",
        "query = \"mount kalsubai\"\n",
        "\n",
        "document_terms = []\n",
        "for doc in documents:\n",
        "    doc_terms = doc.lower().split()\n",
        "    document_terms.append(doc_terms)\n",
        "\n",
        "query_terms = query.split()\n",
        "\n",
        "freq_matrix = []\n",
        "for term in keywords:\n",
        "    term_freqs = []\n",
        "    for doc_terms in document_terms:\n",
        "        term_freq = doc_terms.count(term)\n",
        "        term_freqs.append(term_freq)\n",
        "    freq_matrix.append(term_freqs)\n",
        "\n",
        "df = pd.DataFrame(freq_matrix, columns=[f\"D{i+1}\" for i in range(len(documents))], index=keywords)\n",
        "\n",
        "query_presence = [1 if term in query_terms else 0 for term in keywords]\n",
        "df['Query'] = query_presence\n",
        "\n",
        "max_values = df.max()\n",
        "\n",
        "# Divide each maximum value by all terms in the respective column\n",
        "new_df = df.divide(max_values, axis=1)\n",
        "print(new_df)\n"
      ],
      "metadata": {
        "colab": {
          "base_uri": "https://localhost:8080/"
        },
        "id": "rUbd9iTmRzn2",
        "outputId": "5f5b0863-ce02-46c3-c388-d794ee0525c0"
      },
      "execution_count": null,
      "outputs": [
        {
          "output_type": "stream",
          "name": "stdout",
          "text": [
            "           D1   D2   D3  Query\n",
            "mount     1.0  0.0  1.0    1.0\n",
            "everest   1.0  0.0  0.0    0.0\n",
            "earth     0.5  0.0  0.0    0.0\n",
            "mountain  0.5  1.0  1.0    0.0\n",
            "kalsubai  0.0  1.0  0.0    1.0\n",
            "fuji      0.0  0.0  1.0    0.0\n"
          ]
        }
      ]
    },
    {
      "cell_type": "code",
      "source": [
        "temp_df = new_df.copy()\n",
        "temp_df = temp_df[[\"D1\", \"D2\", \"D3\"]]"
      ],
      "metadata": {
        "id": "lRYWegagWwaf"
      },
      "execution_count": null,
      "outputs": []
    },
    {
      "cell_type": "code",
      "source": [
        "temp_df"
      ],
      "metadata": {
        "colab": {
          "base_uri": "https://localhost:8080/",
          "height": 238
        },
        "id": "fs47VWTVXKBg",
        "outputId": "168ca1e5-a1af-463b-c7a5-4f20cea85036"
      },
      "execution_count": null,
      "outputs": [
        {
          "output_type": "execute_result",
          "data": {
            "text/plain": [
              "           D1   D2   D3\n",
              "mount     1.0  0.0  1.0\n",
              "everest   1.0  0.0  0.0\n",
              "earth     0.5  0.0  0.0\n",
              "mountain  0.5  1.0  1.0\n",
              "kalsubai  0.0  1.0  0.0\n",
              "fuji      0.0  0.0  1.0"
            ],
            "text/html": [
              "\n",
              "  <div id=\"df-4736e4ce-d68e-41a6-bd16-729a19ca43be\" class=\"colab-df-container\">\n",
              "    <div>\n",
              "<style scoped>\n",
              "    .dataframe tbody tr th:only-of-type {\n",
              "        vertical-align: middle;\n",
              "    }\n",
              "\n",
              "    .dataframe tbody tr th {\n",
              "        vertical-align: top;\n",
              "    }\n",
              "\n",
              "    .dataframe thead th {\n",
              "        text-align: right;\n",
              "    }\n",
              "</style>\n",
              "<table border=\"1\" class=\"dataframe\">\n",
              "  <thead>\n",
              "    <tr style=\"text-align: right;\">\n",
              "      <th></th>\n",
              "      <th>D1</th>\n",
              "      <th>D2</th>\n",
              "      <th>D3</th>\n",
              "    </tr>\n",
              "  </thead>\n",
              "  <tbody>\n",
              "    <tr>\n",
              "      <th>mount</th>\n",
              "      <td>1.0</td>\n",
              "      <td>0.0</td>\n",
              "      <td>1.0</td>\n",
              "    </tr>\n",
              "    <tr>\n",
              "      <th>everest</th>\n",
              "      <td>1.0</td>\n",
              "      <td>0.0</td>\n",
              "      <td>0.0</td>\n",
              "    </tr>\n",
              "    <tr>\n",
              "      <th>earth</th>\n",
              "      <td>0.5</td>\n",
              "      <td>0.0</td>\n",
              "      <td>0.0</td>\n",
              "    </tr>\n",
              "    <tr>\n",
              "      <th>mountain</th>\n",
              "      <td>0.5</td>\n",
              "      <td>1.0</td>\n",
              "      <td>1.0</td>\n",
              "    </tr>\n",
              "    <tr>\n",
              "      <th>kalsubai</th>\n",
              "      <td>0.0</td>\n",
              "      <td>1.0</td>\n",
              "      <td>0.0</td>\n",
              "    </tr>\n",
              "    <tr>\n",
              "      <th>fuji</th>\n",
              "      <td>0.0</td>\n",
              "      <td>0.0</td>\n",
              "      <td>1.0</td>\n",
              "    </tr>\n",
              "  </tbody>\n",
              "</table>\n",
              "</div>\n",
              "    <div class=\"colab-df-buttons\">\n",
              "\n",
              "  <div class=\"colab-df-container\">\n",
              "    <button class=\"colab-df-convert\" onclick=\"convertToInteractive('df-4736e4ce-d68e-41a6-bd16-729a19ca43be')\"\n",
              "            title=\"Convert this dataframe to an interactive table.\"\n",
              "            style=\"display:none;\">\n",
              "\n",
              "  <svg xmlns=\"http://www.w3.org/2000/svg\" height=\"24px\" viewBox=\"0 -960 960 960\">\n",
              "    <path d=\"M120-120v-720h720v720H120Zm60-500h600v-160H180v160Zm220 220h160v-160H400v160Zm0 220h160v-160H400v160ZM180-400h160v-160H180v160Zm440 0h160v-160H620v160ZM180-180h160v-160H180v160Zm440 0h160v-160H620v160Z\"/>\n",
              "  </svg>\n",
              "    </button>\n",
              "\n",
              "  <style>\n",
              "    .colab-df-container {\n",
              "      display:flex;\n",
              "      gap: 12px;\n",
              "    }\n",
              "\n",
              "    .colab-df-convert {\n",
              "      background-color: #E8F0FE;\n",
              "      border: none;\n",
              "      border-radius: 50%;\n",
              "      cursor: pointer;\n",
              "      display: none;\n",
              "      fill: #1967D2;\n",
              "      height: 32px;\n",
              "      padding: 0 0 0 0;\n",
              "      width: 32px;\n",
              "    }\n",
              "\n",
              "    .colab-df-convert:hover {\n",
              "      background-color: #E2EBFA;\n",
              "      box-shadow: 0px 1px 2px rgba(60, 64, 67, 0.3), 0px 1px 3px 1px rgba(60, 64, 67, 0.15);\n",
              "      fill: #174EA6;\n",
              "    }\n",
              "\n",
              "    .colab-df-buttons div {\n",
              "      margin-bottom: 4px;\n",
              "    }\n",
              "\n",
              "    [theme=dark] .colab-df-convert {\n",
              "      background-color: #3B4455;\n",
              "      fill: #D2E3FC;\n",
              "    }\n",
              "\n",
              "    [theme=dark] .colab-df-convert:hover {\n",
              "      background-color: #434B5C;\n",
              "      box-shadow: 0px 1px 3px 1px rgba(0, 0, 0, 0.15);\n",
              "      filter: drop-shadow(0px 1px 2px rgba(0, 0, 0, 0.3));\n",
              "      fill: #FFFFFF;\n",
              "    }\n",
              "  </style>\n",
              "\n",
              "    <script>\n",
              "      const buttonEl =\n",
              "        document.querySelector('#df-4736e4ce-d68e-41a6-bd16-729a19ca43be button.colab-df-convert');\n",
              "      buttonEl.style.display =\n",
              "        google.colab.kernel.accessAllowed ? 'block' : 'none';\n",
              "\n",
              "      async function convertToInteractive(key) {\n",
              "        const element = document.querySelector('#df-4736e4ce-d68e-41a6-bd16-729a19ca43be');\n",
              "        const dataTable =\n",
              "          await google.colab.kernel.invokeFunction('convertToInteractive',\n",
              "                                                    [key], {});\n",
              "        if (!dataTable) return;\n",
              "\n",
              "        const docLinkHtml = 'Like what you see? Visit the ' +\n",
              "          '<a target=\"_blank\" href=https://colab.research.google.com/notebooks/data_table.ipynb>data table notebook</a>'\n",
              "          + ' to learn more about interactive tables.';\n",
              "        element.innerHTML = '';\n",
              "        dataTable['output_type'] = 'display_data';\n",
              "        await google.colab.output.renderOutput(dataTable, element);\n",
              "        const docLink = document.createElement('div');\n",
              "        docLink.innerHTML = docLinkHtml;\n",
              "        element.appendChild(docLink);\n",
              "      }\n",
              "    </script>\n",
              "  </div>\n",
              "\n",
              "\n",
              "<div id=\"df-f58e0677-c8a0-4816-b450-d76e17d6f5af\">\n",
              "  <button class=\"colab-df-quickchart\" onclick=\"quickchart('df-f58e0677-c8a0-4816-b450-d76e17d6f5af')\"\n",
              "            title=\"Suggest charts.\"\n",
              "            style=\"display:none;\">\n",
              "\n",
              "<svg xmlns=\"http://www.w3.org/2000/svg\" height=\"24px\"viewBox=\"0 0 24 24\"\n",
              "     width=\"24px\">\n",
              "    <g>\n",
              "        <path d=\"M19 3H5c-1.1 0-2 .9-2 2v14c0 1.1.9 2 2 2h14c1.1 0 2-.9 2-2V5c0-1.1-.9-2-2-2zM9 17H7v-7h2v7zm4 0h-2V7h2v10zm4 0h-2v-4h2v4z\"/>\n",
              "    </g>\n",
              "</svg>\n",
              "  </button>\n",
              "\n",
              "<style>\n",
              "  .colab-df-quickchart {\n",
              "      --bg-color: #E8F0FE;\n",
              "      --fill-color: #1967D2;\n",
              "      --hover-bg-color: #E2EBFA;\n",
              "      --hover-fill-color: #174EA6;\n",
              "      --disabled-fill-color: #AAA;\n",
              "      --disabled-bg-color: #DDD;\n",
              "  }\n",
              "\n",
              "  [theme=dark] .colab-df-quickchart {\n",
              "      --bg-color: #3B4455;\n",
              "      --fill-color: #D2E3FC;\n",
              "      --hover-bg-color: #434B5C;\n",
              "      --hover-fill-color: #FFFFFF;\n",
              "      --disabled-bg-color: #3B4455;\n",
              "      --disabled-fill-color: #666;\n",
              "  }\n",
              "\n",
              "  .colab-df-quickchart {\n",
              "    background-color: var(--bg-color);\n",
              "    border: none;\n",
              "    border-radius: 50%;\n",
              "    cursor: pointer;\n",
              "    display: none;\n",
              "    fill: var(--fill-color);\n",
              "    height: 32px;\n",
              "    padding: 0;\n",
              "    width: 32px;\n",
              "  }\n",
              "\n",
              "  .colab-df-quickchart:hover {\n",
              "    background-color: var(--hover-bg-color);\n",
              "    box-shadow: 0 1px 2px rgba(60, 64, 67, 0.3), 0 1px 3px 1px rgba(60, 64, 67, 0.15);\n",
              "    fill: var(--button-hover-fill-color);\n",
              "  }\n",
              "\n",
              "  .colab-df-quickchart-complete:disabled,\n",
              "  .colab-df-quickchart-complete:disabled:hover {\n",
              "    background-color: var(--disabled-bg-color);\n",
              "    fill: var(--disabled-fill-color);\n",
              "    box-shadow: none;\n",
              "  }\n",
              "\n",
              "  .colab-df-spinner {\n",
              "    border: 2px solid var(--fill-color);\n",
              "    border-color: transparent;\n",
              "    border-bottom-color: var(--fill-color);\n",
              "    animation:\n",
              "      spin 1s steps(1) infinite;\n",
              "  }\n",
              "\n",
              "  @keyframes spin {\n",
              "    0% {\n",
              "      border-color: transparent;\n",
              "      border-bottom-color: var(--fill-color);\n",
              "      border-left-color: var(--fill-color);\n",
              "    }\n",
              "    20% {\n",
              "      border-color: transparent;\n",
              "      border-left-color: var(--fill-color);\n",
              "      border-top-color: var(--fill-color);\n",
              "    }\n",
              "    30% {\n",
              "      border-color: transparent;\n",
              "      border-left-color: var(--fill-color);\n",
              "      border-top-color: var(--fill-color);\n",
              "      border-right-color: var(--fill-color);\n",
              "    }\n",
              "    40% {\n",
              "      border-color: transparent;\n",
              "      border-right-color: var(--fill-color);\n",
              "      border-top-color: var(--fill-color);\n",
              "    }\n",
              "    60% {\n",
              "      border-color: transparent;\n",
              "      border-right-color: var(--fill-color);\n",
              "    }\n",
              "    80% {\n",
              "      border-color: transparent;\n",
              "      border-right-color: var(--fill-color);\n",
              "      border-bottom-color: var(--fill-color);\n",
              "    }\n",
              "    90% {\n",
              "      border-color: transparent;\n",
              "      border-bottom-color: var(--fill-color);\n",
              "    }\n",
              "  }\n",
              "</style>\n",
              "\n",
              "  <script>\n",
              "    async function quickchart(key) {\n",
              "      const quickchartButtonEl =\n",
              "        document.querySelector('#' + key + ' button');\n",
              "      quickchartButtonEl.disabled = true;  // To prevent multiple clicks.\n",
              "      quickchartButtonEl.classList.add('colab-df-spinner');\n",
              "      try {\n",
              "        const charts = await google.colab.kernel.invokeFunction(\n",
              "            'suggestCharts', [key], {});\n",
              "      } catch (error) {\n",
              "        console.error('Error during call to suggestCharts:', error);\n",
              "      }\n",
              "      quickchartButtonEl.classList.remove('colab-df-spinner');\n",
              "      quickchartButtonEl.classList.add('colab-df-quickchart-complete');\n",
              "    }\n",
              "    (() => {\n",
              "      let quickchartButtonEl =\n",
              "        document.querySelector('#df-f58e0677-c8a0-4816-b450-d76e17d6f5af button');\n",
              "      quickchartButtonEl.style.display =\n",
              "        google.colab.kernel.accessAllowed ? 'block' : 'none';\n",
              "    })();\n",
              "  </script>\n",
              "</div>\n",
              "    </div>\n",
              "  </div>\n"
            ]
          },
          "metadata": {},
          "execution_count": 80
        }
      ]
    },
    {
      "cell_type": "code",
      "source": [
        "for term in keywords:\n",
        "    count = 0\n",
        "    for doc in [\"D1\", \"D2\", \"D3\"]:\n",
        "        if new_df.at[term, doc] > 0:\n",
        "            count += 1\n",
        "    new_df.at[term, 'Count'] = count\n",
        "\n",
        "new_df['Count'] = new_df['Count'].astype(int)\n",
        "\n",
        "\n",
        "print(\"Updated DataFrame with Count:\")\n",
        "print(new_df)\n"
      ],
      "metadata": {
        "colab": {
          "base_uri": "https://localhost:8080/"
        },
        "id": "uL83rxHyT3Co",
        "outputId": "bb03df43-5446-41b8-d3ab-cb61e1c0f1dd"
      },
      "execution_count": null,
      "outputs": [
        {
          "output_type": "stream",
          "name": "stdout",
          "text": [
            "Updated DataFrame with Count:\n",
            "           D1   D2   D3  Query  Count\n",
            "mount     1.0  0.0  1.0    1.0      2\n",
            "everest   1.0  0.0  0.0    0.0      1\n",
            "earth     0.5  0.0  0.0    0.0      1\n",
            "mountain  0.5  1.0  1.0    0.0      3\n",
            "kalsubai  0.0  1.0  0.0    1.0      1\n",
            "fuji      0.0  0.0  1.0    0.0      1\n"
          ]
        }
      ]
    },
    {
      "cell_type": "code",
      "source": [
        "import math\n",
        "\n",
        "cc = new_df['Count']\n",
        "N = 3\n",
        "idf = []\n",
        "\n",
        "for count in cc:\n",
        "    res = math.log(1 + (N/count), 10)\n",
        "    res = round(res, 3)\n",
        "    idf.append(res)\n",
        "\n",
        "print(idf)\n",
        "\n",
        "new_df['idf'] = idf\n",
        "\n",
        "print('df after idf')\n",
        "print(new_df)\n"
      ],
      "metadata": {
        "colab": {
          "base_uri": "https://localhost:8080/"
        },
        "id": "wRTx35_3b6Xx",
        "outputId": "e67fbc2d-1eba-437d-fc6a-0e0efd7eb4a8"
      },
      "execution_count": null,
      "outputs": [
        {
          "output_type": "stream",
          "name": "stdout",
          "text": [
            "[0.398, 0.602, 0.602, 0.301, 0.602, 0.602]\n",
            "df after idf\n",
            "           D1   D2   D3  Query  Count    idf\n",
            "mount     1.0  0.0  1.0    1.0      2  0.398\n",
            "everest   1.0  0.0  0.0    0.0      1  0.602\n",
            "earth     0.5  0.0  0.0    0.0      1  0.602\n",
            "mountain  0.5  1.0  1.0    0.0      3  0.301\n",
            "kalsubai  0.0  1.0  0.0    1.0      1  0.602\n",
            "fuji      0.0  0.0  1.0    0.0      1  0.602\n"
          ]
        }
      ]
    },
    {
      "cell_type": "code",
      "source": [
        "max_idf = max(new_df['idf'])\n",
        "new_df['Gi'] = new_df['idf'] / max_idf\n",
        "\n",
        "print(\"Updated DataFrame with Gi column:\")\n",
        "print(new_df)"
      ],
      "metadata": {
        "colab": {
          "base_uri": "https://localhost:8080/"
        },
        "id": "oS8KlgqCci3W",
        "outputId": "119cc346-ce85-4bee-a075-74f0c3ec9494"
      },
      "execution_count": null,
      "outputs": [
        {
          "output_type": "stream",
          "name": "stdout",
          "text": [
            "Updated DataFrame with Gi column:\n",
            "           D1   D2   D3  Query  Count    idf       Gi\n",
            "mount     1.0  0.0  1.0    1.0      2  0.398  0.66113\n",
            "everest   1.0  0.0  0.0    0.0      1  0.602  1.00000\n",
            "earth     0.5  0.0  0.0    0.0      1  0.602  1.00000\n",
            "mountain  0.5  1.0  1.0    0.0      3  0.301  0.50000\n",
            "kalsubai  0.0  1.0  0.0    1.0      1  0.602  1.00000\n",
            "fuji      0.0  0.0  1.0    0.0      1  0.602  1.00000\n"
          ]
        }
      ]
    },
    {
      "cell_type": "code",
      "source": [
        "new_df_copy = new_df.drop(['Count', 'idf'], axis=1)\n",
        "print(new_df_copy)\n"
      ],
      "metadata": {
        "colab": {
          "base_uri": "https://localhost:8080/"
        },
        "id": "rvQIf646c08J",
        "outputId": "39b5bcf2-449b-4e5f-80da-66bc74ad71ea"
      },
      "execution_count": null,
      "outputs": [
        {
          "output_type": "stream",
          "name": "stdout",
          "text": [
            "           D1   D2   D3  Query       Gi\n",
            "mount     1.0  0.0  1.0    1.0  0.66113\n",
            "everest   1.0  0.0  0.0    0.0  1.00000\n",
            "earth     0.5  0.0  0.0    0.0  1.00000\n",
            "mountain  0.5  1.0  1.0    0.0  0.50000\n",
            "kalsubai  0.0  1.0  0.0    1.0  1.00000\n",
            "fuji      0.0  0.0  1.0    0.0  1.00000\n"
          ]
        }
      ]
    },
    {
      "cell_type": "code",
      "source": [
        "import numpy as np"
      ],
      "metadata": {
        "id": "K9dmXgpjdBUw"
      },
      "execution_count": null,
      "outputs": []
    },
    {
      "cell_type": "code",
      "source": [
        "new_df_copy.loc[:, new_df_copy.columns != 'Gi'] *= new_df_copy['Gi'].values[:, np.newaxis]\n",
        "print(new_df_copy)"
      ],
      "metadata": {
        "colab": {
          "base_uri": "https://localhost:8080/"
        },
        "id": "xwJAgE5Kc_3i",
        "outputId": "41ae9cc6-3f8b-44c9-b816-4eec8a92d953"
      },
      "execution_count": null,
      "outputs": [
        {
          "output_type": "stream",
          "name": "stdout",
          "text": [
            "               D1   D2       D3    Query       Gi\n",
            "mount     0.66113  0.0  0.66113  0.66113  0.66113\n",
            "everest   1.00000  0.0  0.00000  0.00000  1.00000\n",
            "earth     0.50000  0.0  0.00000  0.00000  1.00000\n",
            "mountain  0.25000  0.5  0.50000  0.00000  0.50000\n",
            "kalsubai  0.00000  1.0  0.00000  1.00000  1.00000\n",
            "fuji      0.00000  0.0  1.00000  0.00000  1.00000\n"
          ]
        }
      ]
    },
    {
      "cell_type": "code",
      "source": [
        "new_df_copy = new_df_copy.drop(['Gi', 'Query'], axis=1)\n",
        "print(new_df_copy)"
      ],
      "metadata": {
        "colab": {
          "base_uri": "https://localhost:8080/"
        },
        "id": "1T7PpQPmdQHK",
        "outputId": "217047fc-1fd0-4f79-b7e0-9388691471e8"
      },
      "execution_count": null,
      "outputs": [
        {
          "output_type": "stream",
          "name": "stdout",
          "text": [
            "               D1   D2       D3\n",
            "mount     0.66113  0.0  0.66113\n",
            "everest   1.00000  0.0  0.00000\n",
            "earth     0.50000  0.0  0.00000\n",
            "mountain  0.25000  0.5  0.50000\n",
            "kalsubai  0.00000  1.0  0.00000\n",
            "fuji      0.00000  0.0  1.00000\n"
          ]
        }
      ]
    },
    {
      "cell_type": "code",
      "source": [
        "query_term_values = new_df_copy.loc[['mount', 'kalsubai']]\n",
        "\n",
        "print(\"Values for query terms:\")\n",
        "print(query_term_values)\n"
      ],
      "metadata": {
        "colab": {
          "base_uri": "https://localhost:8080/"
        },
        "id": "oItujbwkdhWi",
        "outputId": "a1378bca-5aa7-4157-8375-d708fb7cf8ff"
      },
      "execution_count": null,
      "outputs": [
        {
          "output_type": "stream",
          "name": "stdout",
          "text": [
            "Values for query terms:\n",
            "               D1   D2       D3\n",
            "mount     0.66113  0.0  0.66113\n",
            "kalsubai  0.00000  1.0  0.00000\n"
          ]
        }
      ]
    },
    {
      "cell_type": "code",
      "source": [
        "transposed_df = query_term_values.T\n",
        "transposed_df"
      ],
      "metadata": {
        "colab": {
          "base_uri": "https://localhost:8080/",
          "height": 143
        },
        "id": "dCUgh_-0hLMi",
        "outputId": "ae35e1e7-4a12-4b7f-edc3-4771dee7bb15"
      },
      "execution_count": null,
      "outputs": [
        {
          "output_type": "execute_result",
          "data": {
            "text/plain": [
              "      mount  kalsubai\n",
              "D1  0.66113       0.0\n",
              "D2  0.00000       1.0\n",
              "D3  0.66113       0.0"
            ],
            "text/html": [
              "\n",
              "  <div id=\"df-9978b02d-103f-4f3b-b01b-63e2a6859bab\" class=\"colab-df-container\">\n",
              "    <div>\n",
              "<style scoped>\n",
              "    .dataframe tbody tr th:only-of-type {\n",
              "        vertical-align: middle;\n",
              "    }\n",
              "\n",
              "    .dataframe tbody tr th {\n",
              "        vertical-align: top;\n",
              "    }\n",
              "\n",
              "    .dataframe thead th {\n",
              "        text-align: right;\n",
              "    }\n",
              "</style>\n",
              "<table border=\"1\" class=\"dataframe\">\n",
              "  <thead>\n",
              "    <tr style=\"text-align: right;\">\n",
              "      <th></th>\n",
              "      <th>mount</th>\n",
              "      <th>kalsubai</th>\n",
              "    </tr>\n",
              "  </thead>\n",
              "  <tbody>\n",
              "    <tr>\n",
              "      <th>D1</th>\n",
              "      <td>0.66113</td>\n",
              "      <td>0.0</td>\n",
              "    </tr>\n",
              "    <tr>\n",
              "      <th>D2</th>\n",
              "      <td>0.00000</td>\n",
              "      <td>1.0</td>\n",
              "    </tr>\n",
              "    <tr>\n",
              "      <th>D3</th>\n",
              "      <td>0.66113</td>\n",
              "      <td>0.0</td>\n",
              "    </tr>\n",
              "  </tbody>\n",
              "</table>\n",
              "</div>\n",
              "    <div class=\"colab-df-buttons\">\n",
              "\n",
              "  <div class=\"colab-df-container\">\n",
              "    <button class=\"colab-df-convert\" onclick=\"convertToInteractive('df-9978b02d-103f-4f3b-b01b-63e2a6859bab')\"\n",
              "            title=\"Convert this dataframe to an interactive table.\"\n",
              "            style=\"display:none;\">\n",
              "\n",
              "  <svg xmlns=\"http://www.w3.org/2000/svg\" height=\"24px\" viewBox=\"0 -960 960 960\">\n",
              "    <path d=\"M120-120v-720h720v720H120Zm60-500h600v-160H180v160Zm220 220h160v-160H400v160Zm0 220h160v-160H400v160ZM180-400h160v-160H180v160Zm440 0h160v-160H620v160ZM180-180h160v-160H180v160Zm440 0h160v-160H620v160Z\"/>\n",
              "  </svg>\n",
              "    </button>\n",
              "\n",
              "  <style>\n",
              "    .colab-df-container {\n",
              "      display:flex;\n",
              "      gap: 12px;\n",
              "    }\n",
              "\n",
              "    .colab-df-convert {\n",
              "      background-color: #E8F0FE;\n",
              "      border: none;\n",
              "      border-radius: 50%;\n",
              "      cursor: pointer;\n",
              "      display: none;\n",
              "      fill: #1967D2;\n",
              "      height: 32px;\n",
              "      padding: 0 0 0 0;\n",
              "      width: 32px;\n",
              "    }\n",
              "\n",
              "    .colab-df-convert:hover {\n",
              "      background-color: #E2EBFA;\n",
              "      box-shadow: 0px 1px 2px rgba(60, 64, 67, 0.3), 0px 1px 3px 1px rgba(60, 64, 67, 0.15);\n",
              "      fill: #174EA6;\n",
              "    }\n",
              "\n",
              "    .colab-df-buttons div {\n",
              "      margin-bottom: 4px;\n",
              "    }\n",
              "\n",
              "    [theme=dark] .colab-df-convert {\n",
              "      background-color: #3B4455;\n",
              "      fill: #D2E3FC;\n",
              "    }\n",
              "\n",
              "    [theme=dark] .colab-df-convert:hover {\n",
              "      background-color: #434B5C;\n",
              "      box-shadow: 0px 1px 3px 1px rgba(0, 0, 0, 0.15);\n",
              "      filter: drop-shadow(0px 1px 2px rgba(0, 0, 0, 0.3));\n",
              "      fill: #FFFFFF;\n",
              "    }\n",
              "  </style>\n",
              "\n",
              "    <script>\n",
              "      const buttonEl =\n",
              "        document.querySelector('#df-9978b02d-103f-4f3b-b01b-63e2a6859bab button.colab-df-convert');\n",
              "      buttonEl.style.display =\n",
              "        google.colab.kernel.accessAllowed ? 'block' : 'none';\n",
              "\n",
              "      async function convertToInteractive(key) {\n",
              "        const element = document.querySelector('#df-9978b02d-103f-4f3b-b01b-63e2a6859bab');\n",
              "        const dataTable =\n",
              "          await google.colab.kernel.invokeFunction('convertToInteractive',\n",
              "                                                    [key], {});\n",
              "        if (!dataTable) return;\n",
              "\n",
              "        const docLinkHtml = 'Like what you see? Visit the ' +\n",
              "          '<a target=\"_blank\" href=https://colab.research.google.com/notebooks/data_table.ipynb>data table notebook</a>'\n",
              "          + ' to learn more about interactive tables.';\n",
              "        element.innerHTML = '';\n",
              "        dataTable['output_type'] = 'display_data';\n",
              "        await google.colab.output.renderOutput(dataTable, element);\n",
              "        const docLink = document.createElement('div');\n",
              "        docLink.innerHTML = docLinkHtml;\n",
              "        element.appendChild(docLink);\n",
              "      }\n",
              "    </script>\n",
              "  </div>\n",
              "\n",
              "\n",
              "<div id=\"df-877a4e4c-d9cf-4dc2-a9fc-c64000b73a3d\">\n",
              "  <button class=\"colab-df-quickchart\" onclick=\"quickchart('df-877a4e4c-d9cf-4dc2-a9fc-c64000b73a3d')\"\n",
              "            title=\"Suggest charts.\"\n",
              "            style=\"display:none;\">\n",
              "\n",
              "<svg xmlns=\"http://www.w3.org/2000/svg\" height=\"24px\"viewBox=\"0 0 24 24\"\n",
              "     width=\"24px\">\n",
              "    <g>\n",
              "        <path d=\"M19 3H5c-1.1 0-2 .9-2 2v14c0 1.1.9 2 2 2h14c1.1 0 2-.9 2-2V5c0-1.1-.9-2-2-2zM9 17H7v-7h2v7zm4 0h-2V7h2v10zm4 0h-2v-4h2v4z\"/>\n",
              "    </g>\n",
              "</svg>\n",
              "  </button>\n",
              "\n",
              "<style>\n",
              "  .colab-df-quickchart {\n",
              "      --bg-color: #E8F0FE;\n",
              "      --fill-color: #1967D2;\n",
              "      --hover-bg-color: #E2EBFA;\n",
              "      --hover-fill-color: #174EA6;\n",
              "      --disabled-fill-color: #AAA;\n",
              "      --disabled-bg-color: #DDD;\n",
              "  }\n",
              "\n",
              "  [theme=dark] .colab-df-quickchart {\n",
              "      --bg-color: #3B4455;\n",
              "      --fill-color: #D2E3FC;\n",
              "      --hover-bg-color: #434B5C;\n",
              "      --hover-fill-color: #FFFFFF;\n",
              "      --disabled-bg-color: #3B4455;\n",
              "      --disabled-fill-color: #666;\n",
              "  }\n",
              "\n",
              "  .colab-df-quickchart {\n",
              "    background-color: var(--bg-color);\n",
              "    border: none;\n",
              "    border-radius: 50%;\n",
              "    cursor: pointer;\n",
              "    display: none;\n",
              "    fill: var(--fill-color);\n",
              "    height: 32px;\n",
              "    padding: 0;\n",
              "    width: 32px;\n",
              "  }\n",
              "\n",
              "  .colab-df-quickchart:hover {\n",
              "    background-color: var(--hover-bg-color);\n",
              "    box-shadow: 0 1px 2px rgba(60, 64, 67, 0.3), 0 1px 3px 1px rgba(60, 64, 67, 0.15);\n",
              "    fill: var(--button-hover-fill-color);\n",
              "  }\n",
              "\n",
              "  .colab-df-quickchart-complete:disabled,\n",
              "  .colab-df-quickchart-complete:disabled:hover {\n",
              "    background-color: var(--disabled-bg-color);\n",
              "    fill: var(--disabled-fill-color);\n",
              "    box-shadow: none;\n",
              "  }\n",
              "\n",
              "  .colab-df-spinner {\n",
              "    border: 2px solid var(--fill-color);\n",
              "    border-color: transparent;\n",
              "    border-bottom-color: var(--fill-color);\n",
              "    animation:\n",
              "      spin 1s steps(1) infinite;\n",
              "  }\n",
              "\n",
              "  @keyframes spin {\n",
              "    0% {\n",
              "      border-color: transparent;\n",
              "      border-bottom-color: var(--fill-color);\n",
              "      border-left-color: var(--fill-color);\n",
              "    }\n",
              "    20% {\n",
              "      border-color: transparent;\n",
              "      border-left-color: var(--fill-color);\n",
              "      border-top-color: var(--fill-color);\n",
              "    }\n",
              "    30% {\n",
              "      border-color: transparent;\n",
              "      border-left-color: var(--fill-color);\n",
              "      border-top-color: var(--fill-color);\n",
              "      border-right-color: var(--fill-color);\n",
              "    }\n",
              "    40% {\n",
              "      border-color: transparent;\n",
              "      border-right-color: var(--fill-color);\n",
              "      border-top-color: var(--fill-color);\n",
              "    }\n",
              "    60% {\n",
              "      border-color: transparent;\n",
              "      border-right-color: var(--fill-color);\n",
              "    }\n",
              "    80% {\n",
              "      border-color: transparent;\n",
              "      border-right-color: var(--fill-color);\n",
              "      border-bottom-color: var(--fill-color);\n",
              "    }\n",
              "    90% {\n",
              "      border-color: transparent;\n",
              "      border-bottom-color: var(--fill-color);\n",
              "    }\n",
              "  }\n",
              "</style>\n",
              "\n",
              "  <script>\n",
              "    async function quickchart(key) {\n",
              "      const quickchartButtonEl =\n",
              "        document.querySelector('#' + key + ' button');\n",
              "      quickchartButtonEl.disabled = true;  // To prevent multiple clicks.\n",
              "      quickchartButtonEl.classList.add('colab-df-spinner');\n",
              "      try {\n",
              "        const charts = await google.colab.kernel.invokeFunction(\n",
              "            'suggestCharts', [key], {});\n",
              "      } catch (error) {\n",
              "        console.error('Error during call to suggestCharts:', error);\n",
              "      }\n",
              "      quickchartButtonEl.classList.remove('colab-df-spinner');\n",
              "      quickchartButtonEl.classList.add('colab-df-quickchart-complete');\n",
              "    }\n",
              "    (() => {\n",
              "      let quickchartButtonEl =\n",
              "        document.querySelector('#df-877a4e4c-d9cf-4dc2-a9fc-c64000b73a3d button');\n",
              "      quickchartButtonEl.style.display =\n",
              "        google.colab.kernel.accessAllowed ? 'block' : 'none';\n",
              "    })();\n",
              "  </script>\n",
              "</div>\n",
              "    </div>\n",
              "  </div>\n"
            ]
          },
          "metadata": {},
          "execution_count": 89
        }
      ]
    }
  ]
}