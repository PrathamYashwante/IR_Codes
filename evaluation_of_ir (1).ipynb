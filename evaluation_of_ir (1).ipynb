{
  "nbformat": 4,
  "nbformat_minor": 0,
  "metadata": {
    "colab": {
      "provenance": []
    },
    "kernelspec": {
      "name": "python3",
      "display_name": "Python 3"
    },
    "language_info": {
      "name": "python"
    }
  },
  "cells": [
    {
      "cell_type": "code",
      "source": [
        "total_docs = 16\n",
        "\n",
        "dict_of_docs = {\n",
        "    'd1': 'yes',\n",
        "    'd2': 'yes',\n",
        "    'd3': 'no',\n",
        "    'd4': 'yes',\n",
        "    'd5': 'no',\n",
        "    'd6': 'no',\n",
        "    'd7': 'no',\n",
        "    'd8': 'no',\n",
        "    'd9': 'no',\n",
        "    'd10': 'yes'\n",
        "}"
      ],
      "metadata": {
        "id": "WKlr6X7T1Dbu"
      },
      "execution_count": null,
      "outputs": []
    },
    {
      "cell_type": "code",
      "source": [
        "total_retrieved = len(dict_of_docs)\n",
        "print(\"Total Retrieved:\", total_retrieved)"
      ],
      "metadata": {
        "colab": {
          "base_uri": "https://localhost:8080/"
        },
        "id": "5_o3qbJw1ErU",
        "outputId": "15311b14-e20d-4486-cf27-b51021e35f58"
      },
      "execution_count": null,
      "outputs": [
        {
          "output_type": "stream",
          "name": "stdout",
          "text": [
            "Total Retrieved: 10\n"
          ]
        }
      ]
    },
    {
      "cell_type": "code",
      "source": [
        "tp, fp = 0, 0\n",
        "for doc_id, label in dict_of_docs.items():\n",
        "    if label == 'yes':\n",
        "        tp += 1\n",
        "    else:\n",
        "        fp += 1\n",
        "\n",
        "print(\"TP:\", tp)\n",
        "\n",
        "print(\"FP:\", fp)"
      ],
      "metadata": {
        "colab": {
          "base_uri": "https://localhost:8080/"
        },
        "id": "VUwRcaL91GH0",
        "outputId": "fb14ba59-87ad-4f95-fbd9-93d0d62721fb"
      },
      "execution_count": null,
      "outputs": [
        {
          "output_type": "stream",
          "name": "stdout",
          "text": [
            "TP: 4\n",
            "FP: 6\n"
          ]
        }
      ]
    },
    {
      "cell_type": "code",
      "source": [
        "total_relevant_docs = 8\n",
        "total_nonrelevant_docs = 8\n",
        "\n",
        "fn = total_relevant_docs - tp\n",
        "tn = total_nonrelevant_docs - fp"
      ],
      "metadata": {
        "id": "BmIDcNgV1RK7"
      },
      "execution_count": null,
      "outputs": []
    },
    {
      "cell_type": "code",
      "execution_count": null,
      "metadata": {
        "id": "9Vlz2ThM07j1"
      },
      "outputs": [],
      "source": [
        "matrix = [[tp, fp], [fn, tn]]"
      ]
    },
    {
      "cell_type": "code",
      "source": [
        "matrix"
      ],
      "metadata": {
        "colab": {
          "base_uri": "https://localhost:8080/"
        },
        "id": "27T7cedm1g4s",
        "outputId": "33f18af3-958a-4891-9e37-3e211ef67846"
      },
      "execution_count": null,
      "outputs": [
        {
          "output_type": "execute_result",
          "data": {
            "text/plain": [
              "[[4, 6], [4, 2]]"
            ]
          },
          "metadata": {},
          "execution_count": 6
        }
      ]
    },
    {
      "cell_type": "code",
      "source": [
        "precision = tp / (tp + fp)"
      ],
      "metadata": {
        "id": "PD_cqbp-1j7E"
      },
      "execution_count": null,
      "outputs": []
    },
    {
      "cell_type": "code",
      "source": [
        "precision"
      ],
      "metadata": {
        "colab": {
          "base_uri": "https://localhost:8080/"
        },
        "id": "97Hg54-y1oWL",
        "outputId": "6978c5d7-5179-4c83-fbc4-d76d9be93d89"
      },
      "execution_count": null,
      "outputs": [
        {
          "output_type": "execute_result",
          "data": {
            "text/plain": [
              "0.4"
            ]
          },
          "metadata": {},
          "execution_count": 8
        }
      ]
    },
    {
      "cell_type": "code",
      "source": [
        "recall = tp / (tp + fn)"
      ],
      "metadata": {
        "id": "UCNTOVZ21qqU"
      },
      "execution_count": null,
      "outputs": []
    },
    {
      "cell_type": "code",
      "source": [
        "recall"
      ],
      "metadata": {
        "colab": {
          "base_uri": "https://localhost:8080/"
        },
        "id": "yMyzBFEx1trk",
        "outputId": "7084f05e-ab9d-4763-ee08-26166af41b24"
      },
      "execution_count": null,
      "outputs": [
        {
          "output_type": "execute_result",
          "data": {
            "text/plain": [
              "0.5"
            ]
          },
          "metadata": {},
          "execution_count": 10
        }
      ]
    },
    {
      "cell_type": "code",
      "source": [
        "f1_score = (2 * precision * recall) / (precision + recall)"
      ],
      "metadata": {
        "id": "nKRZjUyL1ymn"
      },
      "execution_count": null,
      "outputs": []
    },
    {
      "cell_type": "code",
      "source": [
        "f1_score"
      ],
      "metadata": {
        "colab": {
          "base_uri": "https://localhost:8080/"
        },
        "id": "abJM6oj32Ug3",
        "outputId": "f89ead2b-812d-4b47-b5ef-267117debea7"
      },
      "execution_count": null,
      "outputs": [
        {
          "output_type": "execute_result",
          "data": {
            "text/plain": [
              "0.4444444444444445"
            ]
          },
          "metadata": {},
          "execution_count": 12
        }
      ]
    },
    {
      "cell_type": "code",
      "source": [
        "recall_list = []\n",
        "precision_list = []\n",
        "\n",
        "numerator_recall = 0\n",
        "numerator_precision = 0\n",
        "\n",
        "for i, (doc_id, label) in enumerate(dict_of_docs.items(), start=1):\n",
        "    if label == 'yes':\n",
        "        numerator_recall += 1\n",
        "        numerator_precision += 1\n",
        "\n",
        "    recall = numerator_recall / total_relevant_docs\n",
        "    precision = numerator_precision / i\n",
        "\n",
        "    recall_list.append(recall)\n",
        "    precision_list.append(precision)"
      ],
      "metadata": {
        "id": "27UKGSlf2azW"
      },
      "execution_count": null,
      "outputs": []
    },
    {
      "cell_type": "code",
      "source": [
        "recall_list"
      ],
      "metadata": {
        "colab": {
          "base_uri": "https://localhost:8080/"
        },
        "id": "NVNYKlDM3BuW",
        "outputId": "c3baa807-dae1-4766-854c-d7cc59e8d185"
      },
      "execution_count": null,
      "outputs": [
        {
          "output_type": "execute_result",
          "data": {
            "text/plain": [
              "[0.125, 0.25, 0.25, 0.375, 0.375, 0.375, 0.375, 0.375, 0.375, 0.5]"
            ]
          },
          "metadata": {},
          "execution_count": 43
        }
      ]
    },
    {
      "cell_type": "code",
      "source": [
        "precision_list"
      ],
      "metadata": {
        "colab": {
          "base_uri": "https://localhost:8080/"
        },
        "id": "YnmlLSzI4SlW",
        "outputId": "05c7e5a9-db3e-4661-bc7e-1c7e680ce79e"
      },
      "execution_count": null,
      "outputs": [
        {
          "output_type": "execute_result",
          "data": {
            "text/plain": [
              "[1.0,\n",
              " 1.0,\n",
              " 0.6666666666666666,\n",
              " 0.75,\n",
              " 0.6,\n",
              " 0.5,\n",
              " 0.42857142857142855,\n",
              " 0.375,\n",
              " 0.3333333333333333,\n",
              " 0.4]"
            ]
          },
          "metadata": {},
          "execution_count": 44
        }
      ]
    },
    {
      "cell_type": "code",
      "source": [
        "desired_index = 7\n",
        "\n",
        "if desired_index >= 1 and desired_index <= len(precision_list):\n",
        "    r_precision = precision_list[desired_index - 1]\n",
        "    print(f\"R-Precision at index {desired_index}:{r_precision}\")\n",
        "else:\n",
        "    print(\"Invalid index\")\n"
      ],
      "metadata": {
        "colab": {
          "base_uri": "https://localhost:8080/"
        },
        "id": "uVmAoKU794__",
        "outputId": "2b46415c-738c-4d8e-98ac-4fc9ddd01fae"
      },
      "execution_count": null,
      "outputs": [
        {
          "output_type": "stream",
          "name": "stdout",
          "text": [
            "R-Precision at index 7:0.42857142857142855\n"
          ]
        }
      ]
    },
    {
      "cell_type": "code",
      "source": [
        "N = len(precision_list)\n",
        "\n",
        "map_score = 0\n",
        "for i in range(N):\n",
        "    map_score += precision_list[i] * recall_list[i]\n",
        "map_score /= N\n",
        "\n",
        "print(\"MAP:\", map_score)"
      ],
      "metadata": {
        "colab": {
          "base_uri": "https://localhost:8080/"
        },
        "id": "Yd-AQ0PaAuPI",
        "outputId": "9ff9ff66-ca31-42c5-9f1a-e380d0942b7e"
      },
      "execution_count": null,
      "outputs": [
        {
          "output_type": "stream",
          "name": "stdout",
          "text": [
            "MAP: 0.1861755952380952\n"
          ]
        }
      ]
    }
  ]
}